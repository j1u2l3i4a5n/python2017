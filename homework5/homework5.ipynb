{
 "cells": [
  {
   "cell_type": "markdown",
   "metadata": {},
   "source": [
    "# Computer Programming Homework 5"
   ]
  },
  {
   "cell_type": "markdown",
   "metadata": {},
   "source": [
    "## These are intended to be solved with loops and conditionals. Don’t use strings, lists, or recursion.\n"
   ]
  },
  {
   "cell_type": "markdown",
   "metadata": {},
   "source": [
    "# Demo Tasks:\n",
    "\n",
    "# Task1. (Count Digits)\n",
    "## Problem Description\n",
    "Write the function called digit_count that takes a possibly-negative int and returns the number of digits in it. So, digit_count(12323) returns 5, digit_count (0) returns 1, and digit_count (-111) returns 3. One way you could do this would be to return len(str(abs(n))), but you cannot do that, since you may not use strings here!\n",
    "### Sample Input and Output\n",
    "<img src=\"https://drive.google.com/uc?id=0B8xcn16IzjOeYWctY2x6UWx4ZUU\" />\n",
    "https://drive.google.com/file/d/0B8xcn16IzjOeYWctY2x6UWx4ZUU/view?usp=sharing\n",
    "### Involved Concepts\n",
    "Arithmetic operation\n",
    "\n",
    "Don’t use strings, lists, or recursion.\n"
   ]
  },
  {
   "cell_type": "code",
   "execution_count": 5,
   "metadata": {
    "collapsed": false
   },
   "outputs": [
    {
     "name": "stdout",
     "output_type": "stream",
     "text": [
      "1\n",
      "2\n",
      "1\n",
      "1\n",
      "5\n",
      "4\n"
     ]
    }
   ],
   "source": [
    "# Write your code here\n",
    "def digit_count(x):\n",
    "    digits = 0\n",
    "    if x == 0:\n",
    "        digits += 1\n",
    "    left = x\n",
    "    while left != 0 :\n",
    "        digits += 1\n",
    "        left = int(left / 10)\n",
    "    return digits\n",
    "        \n",
    "print (digit_count(3))\n",
    "print (digit_count(-44))\n",
    "print (digit_count(0))\n",
    "print (digit_count(-0))\n",
    "print (digit_count(-44112))\n",
    "print (digit_count(2144))"
   ]
  },
  {
   "cell_type": "markdown",
   "metadata": {},
   "source": [
    "# Task2. (Longest Digit Run)\n",
    "## Problem Description\n",
    "Write a function called longest_digit_run that takes a possibly-negative int and returns the number of longest consecutive digits in it.\n",
    "### Sample Input and Output\n",
    "<img src=\"https://drive.google.com/uc?id=0B8xcn16IzjOeWU45ZGVMUWVCMzA\" />\n",
    "https://drive.google.com/file/d/0B8xcn16IzjOeWU45ZGVMUWVCMzA/view?usp=sharing\n",
    "\n",
    "### Involved Concepts\n",
    "Arithmetic operation\n",
    "\n",
    "Don’t use strings, lists, or recursion.\n"
   ]
  },
  {
   "cell_type": "code",
   "execution_count": 39,
   "metadata": {
    "collapsed": false
   },
   "outputs": [
    {
     "name": "stdout",
     "output_type": "stream",
     "text": [
      "4\n",
      "6\n",
      "3\n",
      "3\n",
      "1\n",
      "4\n"
     ]
    }
   ],
   "source": [
    "# Write your code here\n",
    "\n",
    "def longest_digit_run(x):\n",
    "    digits = 0\n",
    "    comparison = 1\n",
    "    left = x\n",
    "    last = -1\n",
    "    while left != 0 :\n",
    "        if left % 10 == last:\n",
    "            comparison += 1\n",
    "        else:\n",
    "            comparison = 1\n",
    "        if comparison > digits:\n",
    "                digits = comparison\n",
    "        last = left % 10 \n",
    "        left = int(left / 10)   \n",
    "    if digits == 0 :\n",
    "        digits += 1\n",
    "    return digits\n",
    "\n",
    "print (longest_digit_run(10000))\n",
    "print (longest_digit_run(333333))\n",
    "print (longest_digit_run(-211123))\n",
    "print (longest_digit_run(23111))\n",
    "print (longest_digit_run(0))\n",
    "print (longest_digit_run(2222))"
   ]
  },
  {
   "cell_type": "markdown",
   "metadata": {},
   "source": [
    "# Task3. (Longest Bit Run)\n",
    "## Problem Description\n",
    "Same problem as task2, but your function called longest_bit_run that takes a possibly-negative int and returns the number of longest consecutive digits in it after the integer is transformed to binary form.\n",
    "### Sample Input and Output \n",
    "<img src=\"https://drive.google.com/uc?id=0B8xcn16IzjOeODV4em9LRUczUjA\" />\n",
    "    https://drive.google.com/file/d/0B8xcn16IzjOeODV4em9LRUczUjA/view?usp=sharing\n",
    "### Involved Concepts\n",
    "Arithmetic operation\n",
    "\n",
    "Don’t use strings, lists, or recursion.\n"
   ]
  },
  {
   "cell_type": "code",
   "execution_count": 41,
   "metadata": {
    "collapsed": false
   },
   "outputs": [
    {
     "name": "stdout",
     "output_type": "stream",
     "text": [
      "2\n",
      "2\n",
      "2\n",
      "3\n",
      "1\n",
      "3\n"
     ]
    }
   ],
   "source": [
    "# Write your code here\n",
    "\n",
    "def longest_bit_run(x):\n",
    "    digits = 0\n",
    "    comparison = 1\n",
    "    left = x\n",
    "    last = -1\n",
    "    while left != 0 :\n",
    "        if left % 2 == last:\n",
    "            comparison += 1\n",
    "        else:\n",
    "            comparison = 1\n",
    "        if comparison > digits:\n",
    "                digits = comparison\n",
    "        last = left % 2\n",
    "        left = int(left / 2)   \n",
    "    if digits == 0 :\n",
    "        digits += 1\n",
    "    return digits\n",
    "\n",
    "\n",
    "print (longest_bit_run(3))\n",
    "print (longest_bit_run(4))\n",
    "print (longest_bit_run(-4))\n",
    "print (longest_bit_run(23111))\n",
    "print (longest_bit_run(0))\n",
    "print (longest_bit_run(2222))"
   ]
  },
  {
   "cell_type": "markdown",
   "metadata": {},
   "source": [
    "# Task4. (Set Bit Count)\n",
    "## Problem Description\n",
    "Write a function called set_bit_count that takes a possibly-negative int n and returns the number of bits set to 1.\n",
    "    \n",
    "### Sample Input and Output\n",
    "<img src=\"https://drive.google.com/uc?id=0B8xcn16IzjOeQ1YzbHZHNkxhVE0\" />\n",
    "https://drive.google.com/file/d/0B8xcn16IzjOeQ1YzbHZHNkxhVE0/view?usp=sharing\n",
    "### Involved Concepts\n",
    "Arithmetic operation\n",
    "\n",
    "Don’t use strings, lists, or recursion.\n"
   ]
  },
  {
   "cell_type": "code",
   "execution_count": 46,
   "metadata": {
    "collapsed": false
   },
   "outputs": [
    {
     "name": "stdout",
     "output_type": "stream",
     "text": [
      "2\n",
      "3\n",
      "0\n",
      "0\n",
      "6\n",
      "21\n"
     ]
    }
   ],
   "source": [
    "# Write your code here\n",
    "\n",
    "def set_bit_count(x):\n",
    "    digits = 0\n",
    "    left = x\n",
    "    while left != 0 :\n",
    "        if left % 2 == 1:\n",
    "            digits += 1\n",
    "        left = int(left / 2)\n",
    "    return digits\n",
    "        \n",
    "print (set_bit_count(3))\n",
    "print (set_bit_count(-44))\n",
    "print (set_bit_count(0))\n",
    "print (set_bit_count(-0))\n",
    "print (set_bit_count(-44112))\n",
    "print (set_bit_count(-11223377774))"
   ]
  },
  {
   "cell_type": "markdown",
   "metadata": {},
   "source": [
    "# Task5. (Most Frequent Digit)\n",
    "## Problem Description\n",
    "Write the function most_frequent_digit(n), that takes a possibly-negative integer n and returns the digit from 0 to 9 that occurs most frequently in it, with ties going to the smaller digit.\n",
    "### Sample Input and Output \n",
    "<img src=\"https://drive.google.com/uc?id=0B8xcn16IzjOeRlBmV0pBb0s3NkE\" />\n",
    "https://drive.google.com/file/d/0B8xcn16IzjOeRlBmV0pBb0s3NkE/view?usp=sharing\n",
    "### Involved Concepts\n",
    "Arithmetic operation\n",
    "\n",
    "Don’t use strings, lists, or recursion.\n"
   ]
  },
  {
   "cell_type": "code",
   "execution_count": 71,
   "metadata": {
    "collapsed": false
   },
   "outputs": [
    {
     "data": {
      "text/plain": [
       "9"
      ]
     },
     "execution_count": 71,
     "metadata": {},
     "output_type": "execute_result"
    }
   ],
   "source": [
    "# Write your code here\n",
    "def most_frequent_digit(x):\n",
    "    numDict = {0: 0, 1: 0, 2: 0, 3: 0, 4: 0, 5: 0, 6: 0, 7: 0, 8: 0, 9: 0}\n",
    "    \n",
    "    left = x\n",
    "    while left != 0:\n",
    "        numDict[left % 10] += 1\n",
    "        left = int(left / 10)\n",
    "    most = max(numDict.values())\n",
    "    for i in numDict:\n",
    "        if most == numDict[i]:\n",
    "            if x >= 0 or i == 0:\n",
    "                return i\n",
    "            else:\n",
    "                return 10 - i\n",
    "    \n",
    "most_frequent_digit(-111999999222)"
   ]
  },
  {
   "cell_type": "markdown",
   "metadata": {},
   "source": [
    "# Task6. (Cosine Error)\n",
    "## Problem Description\n",
    "We can use a Taylor Series to approximate cos(x), with x in radians, as:\n",
    "$$cos(x)=1 - \\frac{x^2}{2!}+\\frac{x^4}{4!}-\\frac{x^6}{6!}+... = \\sum_{n=0}^\\infty \\frac{(-1)^n x^{2n}}{(2n)!}$$\n",
    "With this in mind, write the function cosine_error(x, k) that takes a float x (a value in radians) and a non-negative integer k, and first computes the value of the series above including the first k terms (counting from 0), and then returns the absolute value of the difference between that and math.cos(x), which is a measure of the error after that many terms. Since we start at 0, cosine_error(x, 0) should return |cos(x) - 1|. Note how the error quickly converges towards 0, especially for small x. Also, note that you may wish to use the math.factorial function.\n",
    "### Sample Input and Output \n",
    "<img src=\"https://drive.google.com/uc?id=0B8xcn16IzjOeU3lxUnRrUE1vamc\" />\n",
    "https://drive.google.com/file/d/0B8xcn16IzjOeU3lxUnRrUE1vamc/view?usp=sharing\n",
    "### Involved Concepts\n",
    "Arithmetic operation\n",
    "\n",
    "Don’t use strings, lists, or recursion.\n"
   ]
  },
  {
   "cell_type": "code",
   "execution_count": 101,
   "metadata": {
    "collapsed": false
   },
   "outputs": [
    {
     "name": "stdout",
     "output_type": "stream",
     "text": [
      "1.0628165014736624e-12\n"
     ]
    }
   ],
   "source": [
    "# Write your code here\n",
    "import math \n",
    "def taylor(x, k):\n",
    "    return ((-1) ** int(k)) * x ** (2 * k) / math.factorial(2 * k)\n",
    "\n",
    "def cosine_error(x, k):\n",
    "    estimate = 0\n",
    "    for i in range(k):\n",
    "        estimate += taylor(x, i)\n",
    "    return abs(estimate - math.cos(x))\n",
    "\n",
    "print (cosine_error(12, 120))"
   ]
  },
  {
   "cell_type": "code",
   "execution_count": 58,
   "metadata": {
    "collapsed": false
   },
   "outputs": [
    {
     "name": "stdout",
     "output_type": "stream",
     "text": [
      "2\n"
     ]
    }
   ],
   "source": []
  },
  {
   "cell_type": "code",
   "execution_count": null,
   "metadata": {
    "collapsed": true
   },
   "outputs": [],
   "source": []
  }
 ],
 "metadata": {
  "kernelspec": {
   "display_name": "Python 3",
   "language": "python",
   "name": "python3"
  },
  "language_info": {
   "codemirror_mode": {
    "name": "ipython",
    "version": 3
   },
   "file_extension": ".py",
   "mimetype": "text/x-python",
   "name": "python",
   "nbconvert_exporter": "python",
   "pygments_lexer": "ipython3",
   "version": "3.6.0"
  }
 },
 "nbformat": 4,
 "nbformat_minor": 2
}
