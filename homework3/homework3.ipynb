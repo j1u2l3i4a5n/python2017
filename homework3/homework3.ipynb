{
 "cells": [
  {
   "cell_type": "markdown",
   "metadata": {},
   "source": [
    "## Computer Programming Homework 3\n"
   ]
  },
  {
   "cell_type": "markdown",
   "metadata": {},
   "source": [
    "## Exercise 3_1: For\n",
    "## Please predict the result of program below, and then execute this program to compare the result on screen with what you predict.\n"
   ]
  },
  {
   "cell_type": "code",
   "execution_count": 11,
   "metadata": {
    "collapsed": false
   },
   "outputs": [
    {
     "name": "stdout",
     "output_type": "stream",
     "text": [
      "Open the refrigerator...\n",
      "Count in loop 1\n",
      "Number of object: 0\n",
      "Count in loop 2\n",
      "Number of object: 2\n",
      "Count in loop 3\n",
      "Number of object: 4\n",
      "Count in loop 4\n",
      "Number of object: 6\n",
      "Count in loop 5\n",
      "Number of object: 8\n",
      "...close the refrigerator\n"
     ]
    },
    {
     "data": {
      "text/plain": [
       "\"\\nOpen the refrigerator...一次\\n'Count in loop'+1,2,3,4,5\\n'Number of object:'+0,2,4,6,8\\n'...close the refrigerator'\\n\""
      ]
     },
     "execution_count": 11,
     "metadata": {},
     "output_type": "execute_result"
    }
   ],
   "source": [
    "_author_= 'Author'\n",
    "\n",
    "if __name__ == '__main__':\n",
    "    \n",
    "    print ('Open the refrigerator...')\n",
    "    count = 0\n",
    "    for i in range(0, 10, 2):\n",
    "        count += 1\n",
    "        print ('Count in loop', count)\n",
    "        print ('Number of object:', i)\n",
    "    print ('...close the refrigerator')\n",
    "    \n",
    "\"\"\"\n",
    "Open the refrigerator...一次\n",
    "'Count in loop'+1,2,3,4,5\n",
    "'Number of object:'+0,2,4,6,8\n",
    "'...close the refrigerator'\n",
    "\"\"\""
   ]
  },
  {
   "cell_type": "markdown",
   "metadata": {},
   "source": [
    "## An example for multiple “for” structure\n"
   ]
  },
  {
   "cell_type": "code",
   "execution_count": 12,
   "metadata": {
    "collapsed": false
   },
   "outputs": [
    {
     "name": "stdout",
     "output_type": "stream",
     "text": [
      "1\n",
      "1\n",
      "2\n",
      "1\n",
      "2\n",
      "3\n",
      "1\n",
      "2\n",
      "3\n",
      "4\n",
      "1\n",
      "2\n",
      "3\n",
      "4\n",
      "5\n",
      "1\n",
      "2\n",
      "3\n",
      "4\n",
      "5\n",
      "6\n",
      "1\n",
      "2\n",
      "3\n",
      "4\n",
      "5\n",
      "6\n",
      "7\n",
      "1\n",
      "2\n",
      "3\n",
      "4\n",
      "5\n",
      "6\n",
      "7\n",
      "8\n",
      "1\n",
      "2\n",
      "3\n",
      "4\n",
      "5\n",
      "6\n",
      "7\n",
      "8\n",
      "9\n",
      "1\n",
      "2\n",
      "3\n",
      "4\n",
      "5\n",
      "6\n",
      "7\n",
      "8\n",
      "9\n",
      "10\n"
     ]
    },
    {
     "data": {
      "text/plain": [
       "'會印出1,1,2,1,2,3,1,2,3,4,1,2,3,4,5以此類推至1,2,3,4,5,6,7,8,9,10'"
      ]
     },
     "execution_count": 12,
     "metadata": {},
     "output_type": "execute_result"
    }
   ],
   "source": [
    "_author_= 'Author'\n",
    "\n",
    "if __name__ == '__main__':\n",
    "    \n",
    "    for i in range(1,11):\n",
    "        for j in range(1, i+1):\n",
    "            print (j)\n",
    "        print \n",
    "\"\"\"會印出1,1,2,1,2,3,1,2,3,4,1,2,3,4,5以此類推至1,2,3,4,5,6,7,8,9,10\"\"\""
   ]
  },
  {
   "cell_type": "markdown",
   "metadata": {},
   "source": [
    "## Exercise 3_2: While\n",
    "## The program below is designed to print out the values from 1 to 10.\n",
    "### Execute the program below and observe the results. If the results are different from the expected, please modify the program properly."
   ]
  },
  {
   "cell_type": "code",
   "execution_count": 14,
   "metadata": {
    "collapsed": false
   },
   "outputs": [
    {
     "name": "stdout",
     "output_type": "stream",
     "text": [
      "1\n",
      "2\n",
      "3\n",
      "4\n",
      "5\n",
      "6\n",
      "7\n",
      "8\n",
      "9\n",
      "10\n"
     ]
    }
   ],
   "source": [
    "_author_= 'Author'\n",
    "\n",
    "if __name__ == '__main__':\n",
    "    \n",
    "    i = 1\n",
    "    while i < 11:\n",
    "        print (i)\n",
    "        i += 1"
   ]
  },
  {
   "cell_type": "markdown",
   "metadata": {},
   "source": [
    "# Problem Sets\n",
    "# Task1. (Multiplication Table)\n",
    "## Problem Description\n",
    "Write a Python program to print out the multiplication table.\n",
    "### Input\n",
    "An integer number\n",
    "### Output\n",
    "A multiplication table\n",
    "### Sample Input1\n",
    "3\n",
    "### Sample Output1\n",
    "<img src=\"https://drive.google.com/uc?id=0B8xcn16IzjOeZl9UYXR4Zl9zMm8\" />\n",
    "\n",
    "### Sample Input2\n",
    "9\n",
    "### Sample Output2\n",
    "<img src=\"https://drive.google.com/uc?id=0B8xcn16IzjOeUkllYjlpZE9YM2s\" />\n",
    "### Involved Concepts\n",
    "I/O operation, string, arithmetic operation\n",
    "\n",
    "\n"
   ]
  },
  {
   "cell_type": "code",
   "execution_count": 44,
   "metadata": {
    "collapsed": false
   },
   "outputs": [
    {
     "name": "stdout",
     "output_type": "stream",
     "text": [
      "Enter the size of multiplication table(1~9):9\n",
      "1 * 1 = 1\t1 * 2 = 2\t1 * 3 = 3\t1 * 4 = 4\t1 * 5 = 5\t1 * 6 = 6\t1 * 7 = 7\t1 * 8 = 8\t1 * 9 = 9\n",
      "2 * 1 = 2\t2 * 2 = 4\t2 * 3 = 6\t2 * 4 = 8\t2 * 5 = 10\t2 * 6 = 12\t2 * 7 = 14\t2 * 8 = 16\t2 * 9 = 18\n",
      "3 * 1 = 3\t3 * 2 = 6\t3 * 3 = 9\t3 * 4 = 12\t3 * 5 = 15\t3 * 6 = 18\t3 * 7 = 21\t3 * 8 = 24\t3 * 9 = 27\n",
      "4 * 1 = 4\t4 * 2 = 8\t4 * 3 = 12\t4 * 4 = 16\t4 * 5 = 20\t4 * 6 = 24\t4 * 7 = 28\t4 * 8 = 32\t4 * 9 = 36\n",
      "5 * 1 = 5\t5 * 2 = 10\t5 * 3 = 15\t5 * 4 = 20\t5 * 5 = 25\t5 * 6 = 30\t5 * 7 = 35\t5 * 8 = 40\t5 * 9 = 45\n",
      "6 * 1 = 6\t6 * 2 = 12\t6 * 3 = 18\t6 * 4 = 24\t6 * 5 = 30\t6 * 6 = 36\t6 * 7 = 42\t6 * 8 = 48\t6 * 9 = 54\n",
      "7 * 1 = 7\t7 * 2 = 14\t7 * 3 = 21\t7 * 4 = 28\t7 * 5 = 35\t7 * 6 = 42\t7 * 7 = 49\t7 * 8 = 56\t7 * 9 = 63\n",
      "8 * 1 = 8\t8 * 2 = 16\t8 * 3 = 24\t8 * 4 = 32\t8 * 5 = 40\t8 * 6 = 48\t8 * 7 = 56\t8 * 8 = 64\t8 * 9 = 72\n",
      "9 * 1 = 9\t9 * 2 = 18\t9 * 3 = 27\t9 * 4 = 36\t9 * 5 = 45\t9 * 6 = 54\t9 * 7 = 63\t9 * 8 = 72\t9 * 9 = 81\n"
     ]
    }
   ],
   "source": [
    "# Write your code in this block\n",
    "size=input('Enter the size of multiplication table(1~9):')\n",
    "multiplicationTable=[]\n",
    "\n",
    "for i in range(1,int(size)+1):\n",
    "    vec=[]\n",
    "    for j in range(1,int(size)+1):\n",
    "        vec.append(str(i)+' * '+str(j)+' = '+str(i*j))\n",
    "    multiplicationTable.append(vec)\n",
    "for i in multiplicationTable:\n",
    "    print('\\t'.join(i))"
   ]
  },
  {
   "cell_type": "markdown",
   "metadata": {},
   "source": [
    "# Task2. (Prime number)\n",
    "## Problem Description\n",
    "A prime number (or a prime) is a natural number greater than 1 that has no positive divisors other than 1 and itself. Please write a Python program to pint out all prime numbers which is smaller than or equal to the input number.\n",
    "### Input\n",
    "An integer number\n",
    "### Output\n",
    "A string\n",
    "### Sample Input1\n",
    "28\n",
    "### Sample Output1\n",
    "2 3 5 7 11 13 17 19 23\n",
    "### Sample Input2\n",
    "79\n",
    "### Sample Output2\n",
    "2 3 5 7 11 13 17 19 23 29 31 37 41 43 47 53 59 61 67 71 73 79\n",
    "### Involved Concepts\n",
    "I/O operation, string, arithmetic operation\n"
   ]
  },
  {
   "cell_type": "code",
   "execution_count": 24,
   "metadata": {
    "collapsed": false
   },
   "outputs": [
    {
     "data": {
      "text/plain": [
       "'2 3 5 7 11 13 17 19 23 29 31 37 41 43 47 53 59 61 67 71 73 79 83 89 97 101 103 107 109 113 127 131 137 139 149 151 157 163 167 173 179 181 191 193 197 199 211 223 227 229 233 239 241 251 257 263 269 271 277 281 283 293 307 311 313 317 331 337 347 349 353 359 367 373 379 383 389 397 401 409 419 421 431 433 439 443 449 457 461 463 467 479 487 491 499 503 509 521 523 541 547 557 563 569 571 577 587 593 599 601 607 613 617 619 631 641 643 647 653 659 661 673 677 683 691 701 709 719 727 733 739 743 751 757 761 769 773 787 797 809 811 821 823 827 829 839 853 857 859 863 877 881 883 887 907 911 919 929 937 941 947 953 967 971 977 983 991 997 1009 1013 1019 1021 1031 1033 1039 1049 1051 1061 1063 1069 1087 1091 1093 1097 1103 1109 1117 1123 1129 1151 1153 1163 1171 1181 1187 1193 1201 1213 1217 1223 1229 1231 1237 1249 1259 1277 1279 1283 1289 1291 1297 1301 1303 1307 1319 1321 1327 1361 1367 1373 1381 1399 1409 1423 1427 1429 1433 1439 1447 1451 1453 1459 1471 1481 1483 1487 1489 1493 1499 1511 1523 1531 1543 1549 1553 1559 1567 1571 1579 1583 1597 1601 1607 1609 1613 1619 1621 1627 1637 1657 1663 1667 1669 1693 1697 1699 1709 1721 1723 1733 1741 1747 1753 1759 1777 1783 1787 1789 1801 1811 1823 1831 1847 1861 1867 1871 1873 1877 1879 1889 1901 1907 1913 1931 1933 1949 1951 1973 1979 1987 1993 1997 1999 2003 2011 2017 2027 2029 2039 2053 2063 2069 2081 2083 2087 2089 2099 2111 2113 2129 2131 2137 2141 2143 2153 2161 2179 2203 2207 2213 2221 2237 2239 2243 2251 2267 2269 2273 2281 2287 2293 2297 2309 2311 2333 2339 2341 2347 2351 2357 2371 2377 2381 2383 2389 2393 2399 2411 2417 2423 2437 2441 2447 2459 2467 2473 2477 2503 2521 2531 2539 2543 2549 2551 2557 2579 2591 2593 2609 2617 2621 2633 2647 2657 2659 2663 2671 2677 2683 2687 2689 2693 2699 2707 2711 2713 2719 2729 2731 2741 2749 2753 2767 2777 2789 2791 2797 2801 2803 2819 2833 2837 2843 2851 2857 2861 2879 2887 2897 2903 2909 2917 2927 2939 2953 2957 2963 2969 2971 2999 3001 3011 3019 3023 3037 3041 3049 3061 3067 3079 3083 3089 3109 3119 3121 3137 3163 3167 3169 3181 3187 3191 3203 3209 3217 3221 3229 3251 3253 3257 3259 3271 3299 3301 3307 3313 3319 3323 3329 3331 3343 3347 3359 3361 3371 3373 3389 3391 3407 3413 3433 3449 3457 3461 3463 3467 3469 3491 3499 3511 3517 3527 3529 3533 3539 3541 3547 3557 3559 3571 3581 3583 3593 3607 3613 3617 3623 3631 3637 3643 3659 3671 3673 3677 3691 3697 3701 3709 3719 3727 3733 3739 3761 3767 3769 3779 3793 3797 3803 3821 3823 3833 3847 3851 3853 3863 3877 3881 3889 3907 3911 3917 3919 3923 3929 3931 3943 3947 3967 3989 4001 4003 4007 4013 4019 4021 4027 4049 4051 4057 4073 4079 4091 4093 4099 4111 4127 4129 4133 4139 4153 4157 4159 4177 4201 4211 4217 4219 4229 4231 4241 4243 4253 4259 4261 4271 4273 4283 4289 4297 4327 4337 4339 4349 4357 4363 4373 4391 4397 4409 4421 4423 4441 4447 4451 4457 4463 4481 4483 4493 4507 4513 4517 4519 4523 4547 4549 4561 4567 4583 4591 4597 4603 4621 4637 4639 4643 4649 4651 4657 4663 4673 4679 4691 4703 4721 4723 4729 4733 4751 4759 4783 4787 4789 4793 4799 4801 4813 4817 4831 4861 4871 4877 4889 4903 4909 4919 4931 4933 4937 4943 4951 4957 4967 4969 4973 4987 4993 4999 5003 5009 5011 5021 5023 5039 5051 5059 5077 5081 5087 5099 5101 5107 5113 5119 5147 5153 5167 5171 5179 5189 5197 5209 5227 5231 5233 5237 5261 5273 5279 5281 5297 5303 5309 5323 5333 5347 5351 5381 5387 5393 5399 5407 5413 5417 5419 5431 5437 5441 5443 5449 5471 5477 5479 5483 5501 5503 5507 5519 5521 5527 5531 5557 5563 5569 5573 5581 5591 5623 5639 5641 5647 5651 5653 5657 5659 5669 5683 5689 5693 5701 5711 5717 5737 5741 5743 5749 5779 5783 5791 5801 5807 5813 5821 5827 5839 5843 5849 5851 5857 5861 5867 5869 5879 5881 5897 5903 5923 5927 5939 5953 5981 5987 6007 6011 6029 6037 6043 6047 6053 6067 6073 6079 6089 6091 6101 6113 6121 6131 6133 6143 6151 6163 6173 6197 6199 6203 6211 6217 6221 6229 6247 6257 6263 6269 6271 6277 6287 6299 6301 6311 6317 6323 6329 6337 6343 6353 6359 6361 6367 6373 6379 6389 6397 6421 6427 6449 6451 6469 6473 6481 6491 6521 6529 6547 6551 6553 6563 6569 6571 6577 6581 6599 6607 6619 6637 6653 6659 6661 6673 6679 6689 6691 6701 6703 6709 6719 6733 6737 6761 6763 6779 6781 6791 6793 6803 6823 6827 6829 6833 6841 6857 6863 6869 6871 6883 6899 6907 6911 6917 6947 6949 6959 6961 6967 6971 6977 6983 6991 6997 7001 7013 7019 7027 7039 7043 7057 7069 7079 7103 7109 7121 7127 7129 7151 7159 7177 7187 7193 7207 7211 7213 7219 7229 7237 7243 7247 7253 7283 7297 7307 7309 7321 7331 7333 7349 7351 7369 7393 7411 7417 7433 7451 7457 7459 7477 7481 7487 7489 7499 7507 7517 7523 7529 7537 7541 7547 7549 7559 7561 7573 7577 7583 7589 7591 7603 7607 7621 7639 7643 7649 7669 7673 7681 7687 7691 7699 7703 7717 7723 7727 7741 7753 7757 7759 7789 7793 7817 7823 7829 7841 7853 7867 7873 7877 7879 7883 7901 7907 7919 7927 7933 7937 7949 7951 7963 7993 8009 8011 8017 8039 8053 8059 8069 8081 8087 8089 8093 8101 8111 8117 8123 8147 8161 8167 8171 8179 8191 8209 8219 8221 8231 8233 8237 8243 8263 8269 8273 8287 8291 8293 8297 8311 8317 8329 8353 8363 8369 8377 8387 8389 8419 8423 8429 8431 8443 8447 8461 8467 8501 8513 8521 8527 8537 8539 8543 8563 8573 8581 8597 8599 8609 8623 8627 8629 8641 8647 8663 8669 8677 8681 8689 8693 8699 8707 8713 8719 8731 8737 8741 8747 8753 8761 8779 8783 8803 8807 8819 8821 8831 8837 8839 8849 8861 8863 8867 8887 8893 8923 8929 8933 8941 8951 8963 8969 8971 8999 9001 9007 9011 9013 9029 9041 9043 9049 9059 9067 9091 9103 9109 9127 9133 9137 9151 9157 9161 9173 9181 9187 9199 9203 9209 9221 9227 9239 9241 9257 9277 9281 9283 9293 9311 9319 9323 9337 9341 9343 9349 9371 9377 9391 9397 9403 9413 9419 9421 9431 9433 9437 9439 9461 9463 9467 9473 9479 9491 9497 9511 9521 9533 9539 9547 9551 9587 9601 9613 9619 9623 9629 9631 9643 9649 9661 9677 9679 9689 9697 9719 9721 9733 9739 9743 9749 9767 9769 9781 9787 9791 9803 9811 9817 9829 9833 9839 9851 9857 9859 9871 9883 9887 9901 9907 9923 9929 9931 9941 9949 9967 9973 10007 10009 10037 10039 10061 10067 10069 10079 10091 10093 10099 10103 10111 10133 10139 10141 10151 10159 10163 10169 10177 10181 10193 10211 10223 10243 10247 10253 10259 10267 10271 10273 10289 10301 10303 10313 10321 10331 10333 10337 10343 10357 10369 10391 10399 10427 10429 10433 10453 10457 10459 10463 10477 10487 10499 10501 10513 10529 10531 10559 10567 10589 10597 10601 10607 10613 10627 10631 10639 10651 10657 10663 10667 10687 10691 10709 10711 10723 10729 10733 10739 10753 10771 10781 10789 10799 10831 10837 10847 10853 10859 10861 10867 10883 10889 10891 10903 10909 10937 10939 10949 10957 10973 10979 10987 10993 11003 11027 11047 11057 11059 11069 11071 11083 11087 11093 11113 11117 11119 11131 11149 11159 11161 11171 11173 11177 11197 11213 11239 11243 11251 11257 11261 11273 11279 11287 11299 11311 11317 11321 11329 11351 11353 11369 11383 11393 11399'"
      ]
     },
     "execution_count": 24,
     "metadata": {},
     "output_type": "execute_result"
    }
   ],
   "source": [
    "# Write your code in this block\n",
    "def prime(x):\n",
    "    primeList=[]\n",
    "    num=2\n",
    "    while num<x:\n",
    "        status=True\n",
    "        for i in primeList:\n",
    "            if num%i==0:\n",
    "                status=False\n",
    "        if status:\n",
    "            primeList.append(num)\n",
    "        num+=1\n",
    "    return ' '.join(map(str,primeList))\n",
    "prime(11411)"
   ]
  },
  {
   "cell_type": "markdown",
   "metadata": {},
   "source": [
    "# Task3_a. (Factorial)\n",
    "## Problem Description\n",
    "Write a program that reads a nonnegative integer and computes and prints its factorial. Factorial example: 5! = 5 * 4 * 3 * 2 * 1 = 120.\n",
    "### Input\n",
    "A nonnegative integer\n",
    "\n",
    "### Output\n",
    "An integer number\n",
    "### Sample Input 1\n",
    "5\n",
    "### Sample Output 1\n",
    "120\n",
    "### Sample Input 2\n",
    "10\n",
    "### Sample Output 2\n",
    "3628800\n",
    "### Involved Concepts\n",
    "I/O manipulation, arithmetic operation\n"
   ]
  },
  {
   "cell_type": "code",
   "execution_count": 30,
   "metadata": {
    "collapsed": false
   },
   "outputs": [
    {
     "data": {
      "text/plain": [
       "24"
      ]
     },
     "execution_count": 30,
     "metadata": {},
     "output_type": "execute_result"
    }
   ],
   "source": [
    "# Write your code in this block\n",
    "def factorial(x):\n",
    "    output=1\n",
    "    for i in range(1,x+1):\n",
    "        output=output*i\n",
    "    return output\n",
    "\n",
    "factorial(4)"
   ]
  },
  {
   "cell_type": "markdown",
   "metadata": {},
   "source": [
    "# Task3_b. (Factorial)\n",
    "## Problem Description\n",
    "Write a program that estimates the value of the mathematical constant e by using the formula: e = 1 + 1/1! + 1/2! + 1/3! + …\n",
    "Prompt the user for the desired accuracy of e (i.e., the number of terms in the summation).\n",
    "### Input\n",
    "A nonnegative integer\n",
    "### Output\n",
    "The approximate value of e\n",
    "### Sample Input 1\n",
    "10\n",
    "### Sample Output 1\n",
    "e = 2.71828152557\n",
    "### Sample Input 2\n",
    "20\n",
    "### Sample Output 2\n",
    "e = 2.71828182846\n",
    "### Involved Concepts\n",
    "I/O manipulation, arithmetic operation"
   ]
  },
  {
   "cell_type": "code",
   "execution_count": 34,
   "metadata": {
    "collapsed": false
   },
   "outputs": [
    {
     "data": {
      "text/plain": [
       "2.7182815255731922"
      ]
     },
     "execution_count": 34,
     "metadata": {},
     "output_type": "execute_result"
    }
   ],
   "source": [
    "# Write your code in this block\n",
    "def factorial(x):\n",
    "    output=1\n",
    "    for i in range(1,x+1):\n",
    "        output=output*i\n",
    "    return output\n",
    "\n",
    "def estimate_e(x):\n",
    "    e=1\n",
    "    for i in range(1,x):\n",
    "        e+=1.0/factorial(i)\n",
    "    return e\n",
    "estimate_e(10)"
   ]
  },
  {
   "cell_type": "markdown",
   "metadata": {},
   "source": [
    "# Task3_c. (Factorial)\n",
    "## Problem Description\n",
    "Write a program that computes the value of by using the formula\n",
    "\n",
    "Prompt the user for the desired accuracy of e (i.e., the number of terms in the summation).\n",
    "### Input\n",
    "A nonnegative integer (accuracy)\n",
    "A real number (value of x)\n",
    "### Output\n",
    "The approximate value of \n",
    "### Sample Input 1\n",
    "Please enter the length of accuracy: 5\n",
    "\n",
    "Please enter the value of x: 2\n",
    "### Sample Output 1\n",
    "The exponential x = 7.0\n",
    "### Sample Input 2\n",
    "Please enter the length of accuracy: 10\n",
    "\n",
    "Please enter the value of x: -0.18\n",
    "### Sample Output 2\n",
    "The exponential x = 0.835270211411\n",
    "### Involved Concepts\n",
    "I/O manipulation, arithmetic operation"
   ]
  },
  {
   "cell_type": "code",
   "execution_count": 1,
   "metadata": {
    "collapsed": false
   },
   "outputs": [
    {
     "data": {
      "text/plain": [
       "0.8352702114112623"
      ]
     },
     "execution_count": 1,
     "metadata": {},
     "output_type": "execute_result"
    }
   ],
   "source": [
    "# Write your code in this block\n",
    "def factorial(x):\n",
    "    output=1\n",
    "    for i in range(1,x+1):\n",
    "        output=output*i\n",
    "    return output\n",
    "\n",
    "def estimate_e(x):\n",
    "    e=1\n",
    "    for i in range(1,x):\n",
    "        e+=1.0/factorial(i)\n",
    "    return e\n",
    "def estimate_e2(x,y):\n",
    "    e=1\n",
    "    for i in range(1,x):\n",
    "        e+=y**(i)/factorial(i)\n",
    "    return e\n",
    "estimate_e2(10,-0.18)"
   ]
  },
  {
   "cell_type": "markdown",
   "metadata": {},
   "source": [
    "# Task4. (Factorial)\n",
    "## Problem Description\n",
    "Using the definition of factorial in Task3, write a program that uses a ‘’for’’ statement to evaluate the factorials of the integers from 1 to n. Print the results in tabular format.\n",
    "### Input\n",
    "A positive integer\n",
    "### Output\n",
    "A tabular format of factorial values\n",
    "### Sample Input 1\n",
    "5\n",
    "### Sample Output 1\n",
    "<img src=\"https://drive.google.com/uc?id=0B8xcn16IzjOeTDlYTUhWSHRFSXc\" />\n",
    "### Sample Input 2\n",
    "20\n",
    "### Sample Output 2\n",
    "<img src=\"https://drive.google.com/uc?id=0B8xcn16IzjOeYzRWNFUzM3N1eEE\" />\n",
    "### Involved Concepts\n",
    "I/O manipulation, arithmetic operation\n",
    "\n"
   ]
  },
  {
   "cell_type": "code",
   "execution_count": 46,
   "metadata": {
    "collapsed": false
   },
   "outputs": [
    {
     "name": "stdout",
     "output_type": "stream",
     "text": [
      "1!\t=\t1\n",
      "2!\t=\t2\n",
      "3!\t=\t6\n",
      "4!\t=\t24\n",
      "5!\t=\t120\n",
      "6!\t=\t720\n",
      "7!\t=\t5040\n",
      "8!\t=\t40320\n",
      "9!\t=\t362880\n",
      "10!\t=\t3628800\n"
     ]
    }
   ],
   "source": [
    "# Write your code in this block\n",
    "def factorial(x):\n",
    "    output=1\n",
    "    for i in range(1,x+1):\n",
    "        output=output*i\n",
    "    return output\n",
    "\n",
    "def fac(x):\n",
    "    for i in range(1,x+1):\n",
    "        print (str(i)+'!\\t=\\t'+str(factorial(i)))\n",
    "fac(10)"
   ]
  },
  {
   "cell_type": "markdown",
   "metadata": {},
   "source": [
    "# Task5. (Number Systems Table)\n",
    "## Problem Description\n",
    "Write a program that prints a table of the binary, octal and hexadecimal equivalents of the decimal numbers in the range 1-256.\n",
    "### Output\n",
    "<img src=\"https://drive.google.com/uc?id=0B8xcn16IzjOeX200Y1Z6YjhNYWs\" />\n",
    "\n",
    "### Involved Concepts\n",
    "Arithmetic operation\n",
    "\n"
   ]
  },
  {
   "cell_type": "code",
   "execution_count": 52,
   "metadata": {
    "collapsed": false
   },
   "outputs": [
    {
     "name": "stdout",
     "output_type": "stream",
     "text": [
      "dec\tbinary\toct\thex\n",
      "1\t1\t1\t1\n",
      "2\t10\t2\t2\n",
      "3\t11\t3\t3\n",
      "4\t100\t4\t4\n",
      "5\t101\t5\t5\n",
      "6\t110\t6\t6\n",
      "7\t111\t7\t7\n",
      "8\t1000\t10\t8\n",
      "9\t1001\t11\t9\n",
      "10\t1010\t12\tA\n",
      "11\t1011\t13\tB\n",
      "12\t1100\t14\tC\n",
      "13\t1101\t15\tD\n",
      "14\t1110\t16\tE\n",
      "15\t1111\t17\tF\n",
      "16\t10000\t20\t10\n",
      "17\t10001\t21\t11\n",
      "18\t10010\t22\t12\n",
      "19\t10011\t23\t13\n",
      "20\t10100\t24\t14\n",
      "21\t10101\t25\t15\n",
      "22\t10110\t26\t16\n",
      "23\t10111\t27\t17\n",
      "24\t11000\t30\t18\n",
      "25\t11001\t31\t19\n",
      "26\t11010\t32\t1A\n",
      "27\t11011\t33\t1B\n",
      "28\t11100\t34\t1C\n",
      "29\t11101\t35\t1D\n",
      "30\t11110\t36\t1E\n",
      "31\t11111\t37\t1F\n",
      "32\t100000\t40\t20\n",
      "33\t100001\t41\t21\n",
      "34\t100010\t42\t22\n",
      "35\t100011\t43\t23\n",
      "36\t100100\t44\t24\n",
      "37\t100101\t45\t25\n",
      "38\t100110\t46\t26\n",
      "39\t100111\t47\t27\n",
      "40\t101000\t50\t28\n",
      "41\t101001\t51\t29\n",
      "42\t101010\t52\t2A\n",
      "43\t101011\t53\t2B\n",
      "44\t101100\t54\t2C\n",
      "45\t101101\t55\t2D\n",
      "46\t101110\t56\t2E\n",
      "47\t101111\t57\t2F\n",
      "48\t110000\t60\t30\n",
      "49\t110001\t61\t31\n",
      "50\t110010\t62\t32\n",
      "51\t110011\t63\t33\n",
      "52\t110100\t64\t34\n",
      "53\t110101\t65\t35\n",
      "54\t110110\t66\t36\n",
      "55\t110111\t67\t37\n",
      "56\t111000\t70\t38\n",
      "57\t111001\t71\t39\n",
      "58\t111010\t72\t3A\n",
      "59\t111011\t73\t3B\n",
      "60\t111100\t74\t3C\n",
      "61\t111101\t75\t3D\n",
      "62\t111110\t76\t3E\n",
      "63\t111111\t77\t3F\n",
      "64\t1000000\t100\t40\n",
      "65\t1000001\t101\t41\n",
      "66\t1000010\t102\t42\n",
      "67\t1000011\t103\t43\n",
      "68\t1000100\t104\t44\n",
      "69\t1000101\t105\t45\n",
      "70\t1000110\t106\t46\n",
      "71\t1000111\t107\t47\n",
      "72\t1001000\t110\t48\n",
      "73\t1001001\t111\t49\n",
      "74\t1001010\t112\t4A\n",
      "75\t1001011\t113\t4B\n",
      "76\t1001100\t114\t4C\n",
      "77\t1001101\t115\t4D\n",
      "78\t1001110\t116\t4E\n",
      "79\t1001111\t117\t4F\n",
      "80\t1010000\t120\t50\n",
      "81\t1010001\t121\t51\n",
      "82\t1010010\t122\t52\n",
      "83\t1010011\t123\t53\n",
      "84\t1010100\t124\t54\n",
      "85\t1010101\t125\t55\n",
      "86\t1010110\t126\t56\n",
      "87\t1010111\t127\t57\n",
      "88\t1011000\t130\t58\n",
      "89\t1011001\t131\t59\n",
      "90\t1011010\t132\t5A\n",
      "91\t1011011\t133\t5B\n",
      "92\t1011100\t134\t5C\n",
      "93\t1011101\t135\t5D\n",
      "94\t1011110\t136\t5E\n",
      "95\t1011111\t137\t5F\n",
      "96\t1100000\t140\t60\n",
      "97\t1100001\t141\t61\n",
      "98\t1100010\t142\t62\n",
      "99\t1100011\t143\t63\n",
      "100\t1100100\t144\t64\n",
      "101\t1100101\t145\t65\n",
      "102\t1100110\t146\t66\n",
      "103\t1100111\t147\t67\n",
      "104\t1101000\t150\t68\n",
      "105\t1101001\t151\t69\n",
      "106\t1101010\t152\t6A\n",
      "107\t1101011\t153\t6B\n",
      "108\t1101100\t154\t6C\n",
      "109\t1101101\t155\t6D\n",
      "110\t1101110\t156\t6E\n",
      "111\t1101111\t157\t6F\n",
      "112\t1110000\t160\t70\n",
      "113\t1110001\t161\t71\n",
      "114\t1110010\t162\t72\n",
      "115\t1110011\t163\t73\n",
      "116\t1110100\t164\t74\n",
      "117\t1110101\t165\t75\n",
      "118\t1110110\t166\t76\n",
      "119\t1110111\t167\t77\n",
      "120\t1111000\t170\t78\n",
      "121\t1111001\t171\t79\n",
      "122\t1111010\t172\t7A\n",
      "123\t1111011\t173\t7B\n",
      "124\t1111100\t174\t7C\n",
      "125\t1111101\t175\t7D\n",
      "126\t1111110\t176\t7E\n",
      "127\t1111111\t177\t7F\n",
      "128\t10000000\t200\t80\n",
      "129\t10000001\t201\t81\n",
      "130\t10000010\t202\t82\n",
      "131\t10000011\t203\t83\n",
      "132\t10000100\t204\t84\n",
      "133\t10000101\t205\t85\n",
      "134\t10000110\t206\t86\n",
      "135\t10000111\t207\t87\n",
      "136\t10001000\t210\t88\n",
      "137\t10001001\t211\t89\n",
      "138\t10001010\t212\t8A\n",
      "139\t10001011\t213\t8B\n",
      "140\t10001100\t214\t8C\n",
      "141\t10001101\t215\t8D\n",
      "142\t10001110\t216\t8E\n",
      "143\t10001111\t217\t8F\n",
      "144\t10010000\t220\t90\n",
      "145\t10010001\t221\t91\n",
      "146\t10010010\t222\t92\n",
      "147\t10010011\t223\t93\n",
      "148\t10010100\t224\t94\n",
      "149\t10010101\t225\t95\n",
      "150\t10010110\t226\t96\n",
      "151\t10010111\t227\t97\n",
      "152\t10011000\t230\t98\n",
      "153\t10011001\t231\t99\n",
      "154\t10011010\t232\t9A\n",
      "155\t10011011\t233\t9B\n",
      "156\t10011100\t234\t9C\n",
      "157\t10011101\t235\t9D\n",
      "158\t10011110\t236\t9E\n",
      "159\t10011111\t237\t9F\n",
      "160\t10100000\t240\tA0\n",
      "161\t10100001\t241\tA1\n",
      "162\t10100010\t242\tA2\n",
      "163\t10100011\t243\tA3\n",
      "164\t10100100\t244\tA4\n",
      "165\t10100101\t245\tA5\n",
      "166\t10100110\t246\tA6\n",
      "167\t10100111\t247\tA7\n",
      "168\t10101000\t250\tA8\n",
      "169\t10101001\t251\tA9\n",
      "170\t10101010\t252\tAA\n",
      "171\t10101011\t253\tAB\n",
      "172\t10101100\t254\tAC\n",
      "173\t10101101\t255\tAD\n",
      "174\t10101110\t256\tAE\n",
      "175\t10101111\t257\tAF\n",
      "176\t10110000\t260\tB0\n",
      "177\t10110001\t261\tB1\n",
      "178\t10110010\t262\tB2\n",
      "179\t10110011\t263\tB3\n",
      "180\t10110100\t264\tB4\n",
      "181\t10110101\t265\tB5\n",
      "182\t10110110\t266\tB6\n",
      "183\t10110111\t267\tB7\n",
      "184\t10111000\t270\tB8\n",
      "185\t10111001\t271\tB9\n",
      "186\t10111010\t272\tBA\n",
      "187\t10111011\t273\tBB\n",
      "188\t10111100\t274\tBC\n",
      "189\t10111101\t275\tBD\n",
      "190\t10111110\t276\tBE\n",
      "191\t10111111\t277\tBF\n",
      "192\t11000000\t300\tC0\n",
      "193\t11000001\t301\tC1\n",
      "194\t11000010\t302\tC2\n",
      "195\t11000011\t303\tC3\n",
      "196\t11000100\t304\tC4\n",
      "197\t11000101\t305\tC5\n",
      "198\t11000110\t306\tC6\n",
      "199\t11000111\t307\tC7\n",
      "200\t11001000\t310\tC8\n",
      "201\t11001001\t311\tC9\n",
      "202\t11001010\t312\tCA\n",
      "203\t11001011\t313\tCB\n",
      "204\t11001100\t314\tCC\n",
      "205\t11001101\t315\tCD\n",
      "206\t11001110\t316\tCE\n",
      "207\t11001111\t317\tCF\n",
      "208\t11010000\t320\tD0\n",
      "209\t11010001\t321\tD1\n",
      "210\t11010010\t322\tD2\n",
      "211\t11010011\t323\tD3\n",
      "212\t11010100\t324\tD4\n",
      "213\t11010101\t325\tD5\n",
      "214\t11010110\t326\tD6\n",
      "215\t11010111\t327\tD7\n",
      "216\t11011000\t330\tD8\n",
      "217\t11011001\t331\tD9\n",
      "218\t11011010\t332\tDA\n",
      "219\t11011011\t333\tDB\n",
      "220\t11011100\t334\tDC\n",
      "221\t11011101\t335\tDD\n",
      "222\t11011110\t336\tDE\n",
      "223\t11011111\t337\tDF\n",
      "224\t11100000\t340\tE0\n",
      "225\t11100001\t341\tE1\n",
      "226\t11100010\t342\tE2\n",
      "227\t11100011\t343\tE3\n",
      "228\t11100100\t344\tE4\n",
      "229\t11100101\t345\tE5\n",
      "230\t11100110\t346\tE6\n",
      "231\t11100111\t347\tE7\n",
      "232\t11101000\t350\tE8\n",
      "233\t11101001\t351\tE9\n",
      "234\t11101010\t352\tEA\n",
      "235\t11101011\t353\tEB\n",
      "236\t11101100\t354\tEC\n",
      "237\t11101101\t355\tED\n",
      "238\t11101110\t356\tEE\n",
      "239\t11101111\t357\tEF\n",
      "240\t11110000\t360\tF0\n",
      "241\t11110001\t361\tF1\n",
      "242\t11110010\t362\tF2\n",
      "243\t11110011\t363\tF3\n",
      "244\t11110100\t364\tF4\n",
      "245\t11110101\t365\tF5\n",
      "246\t11110110\t366\tF6\n",
      "247\t11110111\t367\tF7\n",
      "248\t11111000\t370\tF8\n",
      "249\t11111001\t371\tF9\n",
      "250\t11111010\t372\tFA\n",
      "251\t11111011\t373\tFB\n",
      "252\t11111100\t374\tFC\n",
      "253\t11111101\t375\tFD\n",
      "254\t11111110\t376\tFE\n",
      "255\t11111111\t377\tFF\n",
      "256\t100000000\t400\t100\n"
     ]
    }
   ],
   "source": [
    "# Write your code in this block\n",
    "def change(x,n):\n",
    "    changeList=[]\n",
    "    temp=x\n",
    "    hexStr={10:'A',11:'B',12:'C',13:'D',14:'E',15:'F'}\n",
    "    while temp!=0:\n",
    "        count=0\n",
    "        if temp%n>=10:\n",
    "            changeList.insert(0,hexStr[temp%n])\n",
    "        else:\n",
    "            changeList.insert(0,str(temp%n))\n",
    "        temp=int(temp/n)\n",
    "    return ''.join(changeList)\n",
    "\n",
    "output=[['dec','binary','oct','hex']]\n",
    "for i in range(1,257):\n",
    "    output.append([str(i),str(change(i,2)),str(change(i,8)),str(change(i,16))])\n",
    "\n",
    "for i in output:\n",
    "    print ('\\t'.join(i))"
   ]
  },
  {
   "cell_type": "code",
   "execution_count": 43,
   "metadata": {
    "collapsed": false
   },
   "outputs": [
    {
     "ename": "NameError",
     "evalue": "name 'a' is not defined",
     "output_type": "error",
     "traceback": [
      "\u001b[0;31m---------------------------------------------------------------------------\u001b[0m",
      "\u001b[0;31mNameError\u001b[0m                                 Traceback (most recent call last)",
      "\u001b[0;32m<ipython-input-43-448967243c8d>\u001b[0m in \u001b[0;36m<module>\u001b[0;34m()\u001b[0m\n\u001b[0;32m----> 1\u001b[0;31m \u001b[0mchr\u001b[0m\u001b[1;33m(\u001b[0m\u001b[0ma\u001b[0m\u001b[1;33m)\u001b[0m\u001b[1;33m\u001b[0m\u001b[0m\n\u001b[0m",
      "\u001b[0;31mNameError\u001b[0m: name 'a' is not defined"
     ]
    }
   ],
   "source": []
  },
  {
   "cell_type": "code",
   "execution_count": null,
   "metadata": {
    "collapsed": true
   },
   "outputs": [],
   "source": []
  }
 ],
 "metadata": {
  "kernelspec": {
   "display_name": "VPython",
   "language": "python",
   "name": "vpython"
  },
  "language_info": {
   "codemirror_mode": {
    "name": "ipython",
    "version": 3
   },
   "file_extension": ".py",
   "mimetype": "text/x-python",
   "name": "python",
   "nbconvert_exporter": "python",
   "pygments_lexer": "ipython3",
   "version": "3.6.0"
  }
 },
 "nbformat": 4,
 "nbformat_minor": 2
}
