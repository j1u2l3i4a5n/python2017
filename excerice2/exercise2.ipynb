{
 "cells": [
  {
   "cell_type": "markdown",
   "metadata": {},
   "source": [
    "## Computer Programming Exercise 2\n"
   ]
  },
  {
   "cell_type": "markdown",
   "metadata": {},
   "source": [
    "# Exercise 2_1: If\n",
    "    Try to conclude the difference between “==” and “!=”.\n"
   ]
  },
  {
   "cell_type": "code",
   "execution_count": 1,
   "metadata": {},
   "outputs": [
    {
     "name": "stdout",
     "output_type": "stream",
     "text": [
      "x =  3\n"
     ]
    },
    {
     "data": {
      "text/plain": [
       "True"
      ]
     },
     "execution_count": 1,
     "metadata": {},
     "output_type": "execute_result"
    }
   ],
   "source": [
    "def _main_():\n",
    "    x = 3\n",
    "    y = 5\n",
    "    if x == 3:\n",
    "        print 'x = ', x\n",
    "    if y!= 5:\n",
    "        print 'y = ', y\n",
    "    return True\n",
    "\n",
    "_main_()\n",
    "\n",
    "\"\"\"\n",
    "==表示如果前後兩物相同，則傳回True\n",
    "!=表示如果前後兩物不同，則傳回False\n",
    "而在兩個if條件式中，x==3傳回True，因此執行print 'x = ', x指令，而y!=5則傳回False，所以沒有執行print 'y = ', y指令\n",
    "\"\"\""
   ]
  },
  {
   "cell_type": "markdown",
   "metadata": {},
   "source": [
    "Try to conclude the difference between ‘’==’’ and ‘’=’’ and fix the code.\n"
   ]
  },
  {
   "cell_type": "code",
   "execution_count": 4,
   "metadata": {},
   "outputs": [
    {
     "ename": "NameError",
     "evalue": "global name 'y' is not defined",
     "output_type": "error",
     "traceback": [
      "\u001b[1;31m---------------------------------------------------------------------------\u001b[0m",
      "\u001b[1;31mNameError\u001b[0m                                 Traceback (most recent call last)",
      "\u001b[1;32m<ipython-input-4-b9572dd6844f>\u001b[0m in \u001b[0;36m<module>\u001b[1;34m()\u001b[0m\n\u001b[0;32m      8\u001b[0m     \u001b[1;32mreturn\u001b[0m \u001b[0mTrue\u001b[0m\u001b[1;33m\u001b[0m\u001b[0m\n\u001b[0;32m      9\u001b[0m \u001b[1;33m\u001b[0m\u001b[0m\n\u001b[1;32m---> 10\u001b[1;33m \u001b[0mmain_\u001b[0m\u001b[1;33m(\u001b[0m\u001b[1;33m)\u001b[0m\u001b[1;33m\u001b[0m\u001b[0m\n\u001b[0m\u001b[0;32m     11\u001b[0m \"\"\"\n\u001b[0;32m     12\u001b[0m \u001b[1;33m==\u001b[0m\u001b[0;31m表\u001b[0m\u001b[0;31m示\u001b[0m\u001b[0;31m如\u001b[0m\u001b[0;31m果\u001b[0m\u001b[0;31m前\u001b[0m\u001b[0;31m後\u001b[0m\u001b[0;31m兩\u001b[0m\u001b[0;31m物\u001b[0m\u001b[0;31m相\u001b[0m\u001b[0;31m同\u001b[0m\u001b[0;31m，\u001b[0m\u001b[0;31m則\u001b[0m\u001b[0;31m傳\u001b[0m\u001b[0;31m回\u001b[0m\u001b[0mTrue\u001b[0m\u001b[1;33m\u001b[0m\u001b[0m\n",
      "\u001b[1;32m<ipython-input-4-b9572dd6844f>\u001b[0m in \u001b[0;36mmain_\u001b[1;34m()\u001b[0m\n\u001b[0;32m      1\u001b[0m \u001b[1;32mdef\u001b[0m \u001b[0mmain_\u001b[0m\u001b[1;33m(\u001b[0m\u001b[1;33m)\u001b[0m\u001b[1;33m:\u001b[0m\u001b[1;33m\u001b[0m\u001b[0m\n\u001b[0;32m      2\u001b[0m     \u001b[0mx\u001b[0m \u001b[1;33m=\u001b[0m \u001b[1;36m3\u001b[0m\u001b[1;33m\u001b[0m\u001b[0m\n\u001b[1;32m----> 3\u001b[1;33m     \u001b[0my\u001b[0m \u001b[1;33m==\u001b[0m \u001b[1;36m5\u001b[0m\u001b[1;33m\u001b[0m\u001b[0m\n\u001b[0m\u001b[0;32m      4\u001b[0m     \u001b[1;32mif\u001b[0m \u001b[0mx\u001b[0m \u001b[1;33m==\u001b[0m \u001b[1;36m3\u001b[0m\u001b[1;33m:\u001b[0m\u001b[1;33m\u001b[0m\u001b[0m\n\u001b[0;32m      5\u001b[0m         \u001b[1;32mprint\u001b[0m \u001b[1;34m'x = '\u001b[0m\u001b[1;33m,\u001b[0m \u001b[0mx\u001b[0m\u001b[1;33m\u001b[0m\u001b[0m\n",
      "\u001b[1;31mNameError\u001b[0m: global name 'y' is not defined"
     ]
    }
   ],
   "source": [
    "def main_():\n",
    "    x = 3\n",
    "    y = 5\n",
    "    if x == 3:\n",
    "        print 'x = ', x\n",
    "    if y!= 5:\n",
    "        print 'y = ', y\n",
    "    return True\n",
    "\n",
    "main_()\n",
    "\"\"\"\n",
    "==表示如果前後兩物相同，則傳回True\n",
    "=表示將後面的值儲存在前面這個變數上\n",
    "而執行此程式會發現到系統傳回NameError，因為之前並無建立y這個變數，因此要求比較y和5是沒辦法的，所以傳回了error。\n",
    "\"\"\""
   ]
  },
  {
   "cell_type": "markdown",
   "metadata": {},
   "source": [
    "# Exercise 2_2: If Chain & Multiple If\n",
    "\n",
    "## check the difference between the following codes"
   ]
  },
  {
   "cell_type": "code",
   "execution_count": 5,
   "metadata": {},
   "outputs": [
    {
     "name": "stdout",
     "output_type": "stream",
     "text": [
      "Enter your score: 70\n",
      "You get level B\n"
     ]
    },
    {
     "data": {
      "text/plain": [
       "True"
      ]
     },
     "execution_count": 5,
     "metadata": {},
     "output_type": "execute_result"
    }
   ],
   "source": [
    "def _main_():\n",
    "    \n",
    "    score = float(input('Enter your score: '))\n",
    "    if score >= 80.0:\n",
    "        grade = 'A'\n",
    "    elif score >= 70.0:\n",
    "        grade = 'B'\n",
    "    elif score >= 60.0:\n",
    "        grade = 'C'\n",
    "    else:\n",
    "        grade = 'F'\n",
    "        \n",
    "    print \"You get level\", grade\n",
    "    return True\n",
    "\n",
    "_main_()"
   ]
  },
  {
   "cell_type": "code",
   "execution_count": 7,
   "metadata": {},
   "outputs": [
    {
     "name": "stdout",
     "output_type": "stream",
     "text": [
      "Enter your score: 70\n",
      "You get level C\n"
     ]
    },
    {
     "data": {
      "text/plain": [
       "True"
      ]
     },
     "execution_count": 7,
     "metadata": {},
     "output_type": "execute_result"
    }
   ],
   "source": [
    "def _main_():\n",
    "    \n",
    "    score = float(input('Enter your score: '))\n",
    "    if score >= 80.0:\n",
    "        grade = 'A'\n",
    "    if score >= 70.0:\n",
    "        grade = 'B'\n",
    "    if score >= 60.0:\n",
    "        grade = 'C'\n",
    "    if score < 60:\n",
    "        grade = 'F'\n",
    "        \n",
    "    print \"You get level\", grade\n",
    "    return True\n",
    "\n",
    "_main_()\n",
    "\n",
    "\n",
    "\"\"\"\n",
    "兩段程式碼差在前者使用一個if和elif跟else完成判斷成績等第的function，因此他的每個判斷式後的事件是互斥且完整填滿整個樣本空間的。\n",
    "而後者的程式碼是用四個if的條件式，因此會導致各項事件有交集的狀況發生。\n",
    "像是當score=73時，會同時滿足score>70和score>60的條件，則按照順序執行後，grade先設定為'B'，後又被設定為'C'，因此最後印出C的等第，但其實應該是B。\n",
    "\"\"\""
   ]
  },
  {
   "cell_type": "markdown",
   "metadata": {},
   "source": [
    "# Demo Tasks\n",
    "# Task1. (Rock-paper-scissors)\n",
    "## Problem Description\n",
    "Rock-paper-scissors is a zero sum hand game usually played between two people, in which each player simultaneously forms one of three shapes with an outstretched hand. These shapes are \"rock\", \"paper\", and \"scissors\". The game has only three possible outcomes other than a tie: a player who decides to play rock will beat another player who has chosen scissors but will lose to one who has played paper ; a play of paper will lose to a play of scissors . If both players throw the same shape, the game is tied and is usually immediately replayed to break the tie.\n",
    "### Input\n",
    "String “r” or “s” or “p”\n",
    "### Output\n",
    "A string\n",
    "### Sample Input1\n",
    "Enter s, r, p for player 1: s\n",
    "\n",
    "Enter s, r, p for player 2: p\n",
    "### Sample Output1\n",
    "Player 1 wins!\n",
    "### Sample Input2\n",
    "Enter s, r, p for player 1: r\n",
    "\n",
    "Enter s, r, p for player 2: r\n",
    "### Sample Output2\n",
    "Two players tie!\n",
    "### Involved Concepts\n",
    "I/O operation, string\n",
    "\n"
   ]
  },
  {
   "cell_type": "code",
   "execution_count": 9,
   "metadata": {},
   "outputs": [
    {
     "name": "stdout",
     "output_type": "stream",
     "text": [
      "player1 (r,s,p) choose onea\n",
      "You can't do this.\n",
      "player1 (r,s,p) choose onea\n",
      "You can't do this.\n",
      "player1 (r,s,p) choose oneb\n",
      "You can't do this.\n",
      "player1 (r,s,p) choose onec\n",
      "You can't do this.\n",
      "player1 (r,s,p) choose oned\n",
      "You can't do this.\n",
      "player1 (r,s,p) choose onee\n",
      "You can't do this.\n",
      "player1 (r,s,p) choose onef\n",
      "You can't do this.\n",
      "player1 (r,s,p) choose oneg\n",
      "You can't do this.\n",
      "player1 (r,s,p) choose oneh\n",
      "You can't do this.\n",
      "player1 (r,s,p) choose onei\n",
      "You can't do this.\n",
      "player1 (r,s,p) choose onej\n",
      "You can't do this.\n",
      "player1 (r,s,p) choose onek\n",
      "You can't do this.\n",
      "player1 (r,s,p) choose ones\n",
      "player2 (r,s,p) choose onea\n",
      "You can't do this.\n",
      "player2 (r,s,p) choose onej\n",
      "You can't do this.\n",
      "player2 (r,s,p) choose one\n",
      "You can't do this.\n",
      "player2 (r,s,p) choose onefg\n",
      "You can't do this.\n",
      "player2 (r,s,p) choose onef\n",
      "You can't do this.\n",
      "player2 (r,s,p) choose oneg\n",
      "You can't do this.\n",
      "player2 (r,s,p) choose oneh\n",
      "You can't do this.\n",
      "player2 (r,s,p) choose onej\n",
      "You can't do this.\n",
      "player2 (r,s,p) choose onek\n",
      "You can't do this.\n",
      "player2 (r,s,p) choose oneu\n",
      "You can't do this.\n",
      "player2 (r,s,p) choose onep\n",
      "Two players tie!\n"
     ]
    }
   ],
   "source": [
    "# Write you code in this block\n",
    "\n",
    "hand= [\"r\" , \"s\" , \"p\"]\n",
    "def player1Hand():\n",
    "    player=raw_input(\"player1 (r,s,p) choose one\")\n",
    "    if player in hand:\n",
    "        return player\n",
    "    else:\n",
    "        print \"You can't do this.\"\n",
    "        player1Hand()\n",
    "def player2Hand():\n",
    "    player=raw_input(\"player2 (r,s,p) choose one\")\n",
    "    if player in hand:\n",
    "        return player\n",
    "    else:\n",
    "        print \"You can't do this.\"\n",
    "        player2Hand()\n",
    "       \n",
    "player1=player1Hand()\n",
    "player2=player2Hand()\n",
    "if player1==player2:\n",
    "    print \"Two players tie!\"\n",
    "else:\n",
    "    if (player1,player2)in[(\"r\" , \"s\"),(\"s\" , \"p\"),(\"p\",\"r\")]:\n",
    "        print \"Player 1 wins!\"\n",
    "    else:\n",
    "        print \"Player 2 wins!\"\n",
    "\n",
    "\n",
    "\n"
   ]
  },
  {
   "cell_type": "markdown",
   "metadata": {},
   "source": [
    "# Task2. (Primary Arithmetic)\n",
    "## Problem Description\n",
    "In elementary school we have done an addition operation is aligned to the right of the two integers and then from right to left are added bit by bit. If the result is greater than the sum of cases is equal to 10 have a carry (carry) occurs. Your task is to determine two integers produced several Carry case when added. This will help primary school teachers analyze the addition topic of difficulty.\n",
    "### Input\n",
    "Every test data pair has two positive numbers, and the test data pair “0 0” means the end of the program. \n",
    "### Output\n",
    "A string\n",
    "### Sample Input1\n",
    "123 456\n",
    "### Sample Output1\n",
    "No carry operation\n",
    "### Sample Input2\n",
    "555 555\n",
    "### Sample Output2\n",
    "3 carry operations\n",
    "### Involved Concepts\n",
    "I/O operation, arithmetic operation\n",
    "\n"
   ]
  },
  {
   "cell_type": "code",
   "execution_count": 11,
   "metadata": {},
   "outputs": [
    {
     "name": "stdout",
     "output_type": "stream",
     "text": [
      "please write some number'12421 414414'\n"
     ]
    },
    {
     "data": {
      "text/plain": [
       "'0 carry operations'"
      ]
     },
     "execution_count": 11,
     "metadata": {},
     "output_type": "execute_result"
    }
   ],
   "source": [
    "# Write your code in this block\n",
    "\n",
    "def carryCaseCount(x):\n",
    "    splitNum=x.split(' ')\n",
    "    sumNum=[0]*max(map(len,splitNum))\n",
    "    for i in range(len(splitNum)):\n",
    "        for idx,j in enumerate(splitNum[i][::-1]):\n",
    "            sumNum[idx]+=int(j)\n",
    "    carryCase=0\n",
    "    for idx,i in enumerate(sumNum):\n",
    "        if i/10>=1:\n",
    "            sumNum[idx]=sumNum[idx]-10*int(i/10)\n",
    "            sumNum[idx+1]+=int(i/10)\n",
    "            carryCase+=1\n",
    "\n",
    "    return str(carryCase)+' carry operations'\n",
    "        \n",
    "    \n",
    "    \n",
    "carryCaseCount(input('please write some number'))\n",
    "    "
   ]
  },
  {
   "cell_type": "markdown",
   "metadata": {},
   "source": [
    "# Task3. (Digits of an Integer)\n",
    "## Problem Description\n",
    "Write a program that inputs a five-digit integer, separates the integer into its digits and prints them separated by one space each.\n",
    "### Sample Input\n",
    "42339\n",
    "### Sample Output\n",
    "4 2 3 3 9\n",
    "### Involved Concepts\n",
    "I/O operation, arithmetic operation\n"
   ]
  },
  {
   "cell_type": "code",
   "execution_count": 9,
   "metadata": {
    "scrolled": true
   },
   "outputs": [
    {
     "data": {
      "text/plain": [
       "'1 2 3 5 4 '"
      ]
     },
     "execution_count": 9,
     "metadata": {},
     "output_type": "execute_result"
    }
   ],
   "source": [
    "# Write your code in this block\n",
    "def seperateNum(x):\n",
    "    numList=[]\n",
    "    for i in str(x):\n",
    "        numList.append(int(i))\n",
    "    output=''\n",
    "    for i in numList:\n",
    "        output+=str(i)+' '\n",
    "    return output\n",
    "        \n",
    "seperateNum(12354)"
   ]
  },
  {
   "cell_type": "markdown",
   "metadata": {},
   "source": [
    "# Task4. (Find the Three Largest Number)\n",
    "## Problem Description\n",
    "The process of finding the largest number (i.e., the maximum of a group of numbers) is used frequently in computer applications. \n",
    "For example, a program that determines the winner of a sales contest inputs the number of units sold by each salesperson. \n",
    "The salesperson who sells the most units wins the contest. \n",
    "Please write a program that finds out the three largest number among the input numbers.\n",
    "### Input\n",
    "Number specifying total input numbers followed by input numbers separated by spaces.\n",
    "### Output\n",
    "Three largest number of the input numbers in descending order, separated by spaces.\n",
    "### Sample Input\n",
    "10\n",
    "\n",
    "9 7 8 3 2 1 10 6 4 5\n",
    "### Sample Output\n",
    "10 9 8\n",
    "### Involved Concepts\n",
    "I/O operation, repetition structure, logical operation\n"
   ]
  },
  {
   "cell_type": "code",
   "execution_count": 8,
   "metadata": {},
   "outputs": [
    {
     "name": "stdout",
     "output_type": "stream",
     "text": [
      "[10, 9, 7]\n"
     ]
    },
    {
     "data": {
      "text/plain": [
       "'10 9 7 '"
      ]
     },
     "execution_count": 8,
     "metadata": {},
     "output_type": "execute_result"
    }
   ],
   "source": [
    "# Write your code in this block\n",
    "def findMax3(x):\n",
    "    dataList=x.split('\\n')\n",
    "    dataList[1]=dataList[1].split(' ')\n",
    "    dataList[1]=map(int,dataList[1])\n",
    "    maxNum3=[0,0,0]\n",
    "    counts=0\n",
    "    while 0 in maxNum3:\n",
    "        largest=max(dataList[1])\n",
    "        maxNum3[counts]=largest\n",
    "        dataList[1][dataList[1].index(largest)]=0\n",
    "        counts+=1\n",
    "    print maxNum3\n",
    "    output=''\n",
    "    for i in maxNum3:\n",
    "        output+=str(i)+' '\n",
    "    return output\n",
    "    \n",
    "findMax3('10\\n9 7 7 3 2 1 10 6 4 5')\n",
    "    \n",
    "    "
   ]
  },
  {
   "cell_type": "markdown",
   "metadata": {},
   "source": [
    "# Task5. (Scientific Notation/E Notation)\n",
    "## Problem Description\n",
    "When you write a program that outputs large/small numbers, you would probably prefer read them in scientific notation. \n",
    "Please write a program that transforms input numbers to scientific notation.\n",
    "### Input\n",
    "A real number in normal notation\n",
    "### Output\n",
    "Corresponding real number in E notation, with only two digits following the decimal point\n",
    "### Sample Input 1\n",
    "68927382689\n",
    "### Sample Output 1\n",
    "6.89E10\n",
    "### Sample Input 2\n",
    "0.1919748\n",
    "### Sample Output 2\n",
    "1.92E-1\n",
    "### Involved Concepts\n",
    "I/O manipulation, arithmetic operation\n",
    "\n"
   ]
  },
  {
   "cell_type": "code",
   "execution_count": 23,
   "metadata": {},
   "outputs": [
    {
     "data": {
      "text/plain": [
       "'1.24001124E-2'"
      ]
     },
     "execution_count": 23,
     "metadata": {},
     "output_type": "execute_result"
    }
   ],
   "source": [
    "# Write your code in this block\n",
    "import math\n",
    "def sciNotation(x):\n",
    "    bits=int(math.log(x)/math.log(10))\n",
    "    if bits<0:\n",
    "        bits=bits-1\n",
    "    return str(float(x)/10**(bits))+'E'+str(bits)\n",
    "sciNotation(0.0124001124)"
   ]
  },
  {
   "cell_type": "markdown",
   "metadata": {},
   "source": [
    "# Task6. (Palindromes)\n",
    "## Problem Description\n",
    "A palindrome is a number or a text phrase that reads the same backward as forward. For example, each of the following five-digit integers is a palindrome: 12321, 55555, 45554 and 11611. Write a program that reads in a five-digit integer and determines whether it’s a palindrome.\n",
    "### Input\n",
    "A five-digit integer\n",
    "### Output\n",
    "Boolean (True or False)\n",
    "### Sample Input 1\n",
    "12221\n",
    "### Sample Output 1\n",
    "True\n",
    "### Sample Input 2\n",
    "12345\n",
    "### Sample Output 2\n",
    "False\n",
    "### Involved Concepts\n",
    "I/O manipulation, Boolean operation\n"
   ]
  },
  {
   "cell_type": "code",
   "execution_count": 29,
   "metadata": {},
   "outputs": [
    {
     "data": {
      "text/plain": [
       "False"
      ]
     },
     "execution_count": 29,
     "metadata": {},
     "output_type": "execute_result"
    }
   ],
   "source": [
    "# Write your code in this block\n",
    "def palindrome(x):\n",
    "    string=str(x)\n",
    "    string2=str(x)[::-1]\n",
    "    if string==string2:\n",
    "        return True\n",
    "    else:\n",
    "        return False\n",
    "\n",
    "        "
   ]
  },
  {
   "cell_type": "markdown",
   "metadata": {},
   "source": [
    "# Task7. (Printing the Decimal Equivalent of a Binary Number)\n",
    "## Problem Description\n",
    "Input an integer containing only 0s and 1s and print its decimal equivalent.\n",
    "### Input\n",
    "A “binary” integer\n",
    "### Output\n",
    "A “Decimal” number\n",
    "### Sample Input 1\n",
    "1000\n",
    "### Sample Output 1\n",
    "8\n",
    "### Sample Input 2\n",
    "101010\n",
    "### Sample Output 2\n",
    "42\n",
    "### Involved Concepts\n",
    "I/O manipulation, arithmetic operation\n",
    "\n"
   ]
  },
  {
   "cell_type": "code",
   "execution_count": 33,
   "metadata": {},
   "outputs": [
    {
     "data": {
      "text/plain": [
       "42"
      ]
     },
     "execution_count": 33,
     "metadata": {},
     "output_type": "execute_result"
    }
   ],
   "source": [
    "# Write your code in this block\n",
    "def twoToTen(x):\n",
    "    biList=[]\n",
    "    output=0\n",
    "    for i in str(x):\n",
    "        biList.append(int(i))\n",
    "    for i in range(len(biList)-1,-1,-1):\n",
    "        output+=biList[i]*(2**(i+1))\n",
    "    return output\n",
    "\n",
    "\n",
    "        \n",
    "        "
   ]
  },
  {
   "cell_type": "code",
   "execution_count": null,
   "metadata": {
    "collapsed": true
   },
   "outputs": [],
   "source": []
  }
 ],
 "metadata": {
  "kernelspec": {
   "display_name": "Python 2",
   "language": "python",
   "name": "python2"
  },
  "language_info": {
   "codemirror_mode": {
    "name": "ipython",
    "version": 2
   },
   "file_extension": ".py",
   "mimetype": "text/x-python",
   "name": "python",
   "nbconvert_exporter": "python",
   "pygments_lexer": "ipython2",
   "version": "2.7.13"
  }
 },
 "nbformat": 4,
 "nbformat_minor": 2
}
