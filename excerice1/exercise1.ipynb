{
 "cells": [
  {
   "cell_type": "markdown",
   "metadata": {},
   "source": [
    "# Computer Programming Exercise 1\n"
   ]
  },
  {
   "cell_type": "markdown",
   "metadata": {},
   "source": [
    "## Question1. (integer & float expressions)\n",
    "## Write down the expected value,  calculated value,  and the reason for calculated value in the following expression   \n",
    "1. 2 * 3\n",
    "2. 2 ** 3\n",
    "3. 5 + 2 * 5\n",
    "4. (5 + 2) * 5\n",
    "5. -4 - -4 - -4\n",
    "6. 2 \\*\\* 2 \\*\\* 0\n",
    "7. (2 \\*\\* 2) \\*\\* 0\n",
    "8. 6 / 2\n",
    "9. 6 / 4\n",
    "10. 6.0 / 4\n",
    "11. 6 / 4.0\n",
    "12. 9.0 \\* 0.5\n",
    "13. 9.0 ** 0.5\n",
    "14. 6 % 2\n",
    "15. 7 % 2\n",
    "16. 6.2 % 4\n",
    "\n",
    "\n",
    "\n"
   ]
  },
  {
   "cell_type": "code",
   "execution_count": 1,
   "metadata": {
    "collapsed": true
   },
   "outputs": [],
   "source": [
    "# Write your answers in this block"
   ]
  },
  {
   "cell_type": "markdown",
   "metadata": {},
   "source": [
    "## Question2. (Comparison and bool Expressions)\n",
    "## Write down the expected value,  calculated value,  and the reason for calculated value in the following expression \n",
    "\n",
    "1. 3 < 5\n",
    "\n",
    "2. 3 < 5 and 5 < 3\n",
    "\n",
    "3. True\n",
    "\n",
    "4. true\n",
    "\n",
    "5. True and False\n",
    "\n",
    "6. True and True\n",
    "\n",
    "7. True or False\n",
    "\n",
    "8. not True\n",
    "\n",
    "9. not not False\n",
    "\n",
    "10. not (False or True)\n",
    "\n",
    "11. True or (False and True)\n",
    "\n",
    "12. (5 / 0 == 1) and False\n",
    "\n",
    "13. False and (5 / 0 == 1)\n",
    "\n",
    "\n",
    "\n"
   ]
  },
  {
   "cell_type": "code",
   "execution_count": null,
   "metadata": {
    "collapsed": true
   },
   "outputs": [],
   "source": [
    "# Write your answers in this block"
   ]
  },
  {
   "cell_type": "markdown",
   "metadata": {},
   "source": [
    "## Question3. (Type and Casting)\n",
    "## Write down the expected value,  calculated value,  and the reason for calculated value in the following expression \n",
    "\n",
    "1. float(4)\n",
    "\n",
    "2. int(4)\n",
    "\n",
    "3. int(5.3)\n",
    "\n",
    "4. float(int(5.3))\n",
    "\n",
    "5. int(-5.3)\n",
    "\n",
    "6. int(-5.7)\n",
    "\n",
    "7. float(7) / 4\n",
    "\n",
    "8. float(7 / 4)\n",
    "\n",
    "\n",
    "\n"
   ]
  },
  {
   "cell_type": "code",
   "execution_count": null,
   "metadata": {
    "collapsed": true
   },
   "outputs": [],
   "source": [
    "# Write your answers in this block"
   ]
  },
  {
   "cell_type": "markdown",
   "metadata": {},
   "source": [
    "## Question4. (Displaying Shapes with Asterisks) \n",
    "## Write a program that prints a box, an oval, an arrow and a diamond as follows:\n"
   ]
  },
  {
   "cell_type": "markdown",
   "metadata": {},
   "source": [
    "<img src=\"https://drive.google.com/uc?id=0B8xcn16IzjOebUZydXdNNWhxTW8\" />\n",
    "## Each solution is 5 points, total = 20 points.\n",
    "## Hint: You can use ‘for’ loop to print the shapes.\n"
   ]
  },
  {
   "cell_type": "code",
   "execution_count": null,
   "metadata": {
    "collapsed": true
   },
   "outputs": [],
   "source": [
    "# Write your code in this block"
   ]
  },
  {
   "cell_type": "code",
   "execution_count": null,
   "metadata": {
    "collapsed": true
   },
   "outputs": [],
   "source": []
  }
 ],
 "metadata": {
  "kernelspec": {
   "display_name": "Python 3",
   "language": "python",
   "name": "python3"
  },
  "language_info": {
   "codemirror_mode": {
    "name": "ipython",
    "version": 3
   },
   "file_extension": ".py",
   "mimetype": "text/x-python",
   "name": "python",
   "nbconvert_exporter": "python",
   "pygments_lexer": "ipython3",
   "version": "3.4.3"
  }
 },
 "nbformat": 4,
 "nbformat_minor": 2
}
