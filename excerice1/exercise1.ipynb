{
 "cells": [
  {
   "cell_type": "markdown",
   "metadata": {},
   "source": [
    "# Computer Programming Exercise 1\n"
   ]
  },
  {
   "cell_type": "markdown",
   "metadata": {},
   "source": [
    "## Question1. (integer & float expressions)\n",
    "## Write down the expected value,  calculated value,  and the reason for calculated value in the following expression   \n",
    "1. 2 * 3\n",
    "2. 2 ** 3\n",
    "3. 5 + 2 * 5\n",
    "4. (5 + 2) * 5\n",
    "5. -4 - -4 - -4\n",
    "6. 2 \\*\\* 2 \\*\\* 0\n",
    "7. (2 \\*\\* 2) \\*\\* 0\n",
    "8. 6 / 2\n",
    "9. 6 / 4\n",
    "10. 6.0 / 4\n",
    "11. 6 / 4.0\n",
    "12. 9.0 \\* 0.5\n",
    "13. 9.0 ** 0.5\n",
    "14. 6 % 2\n",
    "15. 7 % 2\n",
    "16. 6.2 % 4\n",
    "\n",
    "\n",
    "\n"
   ]
  },
  {
   "cell_type": "code",
   "execution_count": 10,
   "metadata": {
    "collapsed": false
   },
   "outputs": [
    {
     "name": "stdout",
     "output_type": "stream",
     "text": [
      "{1: [6, 6, '相乘'], 2: [8, 8, '指數'], 3: [15, 15, '先乘除後加減'], 4: [35, 35, '先運算括弧內的'], 5: [4, 4, '負負得正'], 6: [1, 2, '先運算指數的指數'], 7: [1, 1, '括弧優先'], 8: [3, 3.0, '相除'], 9: [1, 1.5, '相除為浮點數'], 10: [1.5, 1.5, '相除為浮點數'], 11: [1.5, 1.5, '相除為浮點數'], 12: [4.5, 4.5], 13: [3.0, 3.0], 14: [0, 0], 15: [1, 1], 16: [2.2, 2.2]}\n",
      "1.5\n"
     ]
    }
   ],
   "source": [
    "# Write your answers in this block\n",
    "#題號:[expected value,calculated value,\"解釋\"]\n",
    "a={\n",
    "1:[6,2 * 3,\"相乘\"],\n",
    "2:[8,2 ** 3,\"指數\"],\n",
    "3:[15,5 + 2 * 5,\"先乘除後加減\"],\n",
    "4:[35,(5 + 2) * 5,\"先運算括弧內的\"],\n",
    "5:[4,-4 - -4 - -4,\"負負得正\"],\n",
    "6:[1,2 ** 2 ** 0,\"先運算指數的指數\"],\n",
    "7:[1,(2 ** 2) ** 0,\"括弧優先\"],\n",
    "8:[3,6 / 2,\"相除\"],\n",
    "9:[1,6 / 4,\"相除為整數\"],#python3將這個改掉了，整數相除可以得出浮點數\n",
    "10:[1.5,6.0 / 4,\"相除為浮點數\"],\n",
    "11:[1.5,6 / 4.0,\"相除為浮點數\"],\n",
    "12:[4.5,9.0 * 0.5,\"浮點數相乘為浮點數\"],\n",
    "13:[3.0,9.0 ** 0.5,\"浮點數指數後為浮點數\"],\n",
    "14:[0,6 % 2,\"餘數\"],\n",
    "15:[1,7 % 2,\"餘數\"],\n",
    "16:[2.2,6.2 % 4,\"餘數為浮點數\"]}\n",
    "print(a)"
   ]
  },
  {
   "cell_type": "markdown",
   "metadata": {},
   "source": [
    "## Question2. (Comparison and bool Expressions)\n",
    "## Write down the expected value,  calculated value,  and the reason for calculated value in the following expression \n",
    "\n",
    "1. 3 < 5\n",
    "\n",
    "2. 3 < 5 and 5 < 3\n",
    "\n",
    "3. True\n",
    "\n",
    "4. true\n",
    "\n",
    "5. True and False\n",
    "\n",
    "6. True and True\n",
    "\n",
    "7. True or False\n",
    "\n",
    "8. not True\n",
    "\n",
    "9. not not False\n",
    "\n",
    "10. not (False or True)\n",
    "\n",
    "11. True or (False and True)\n",
    "\n",
    "12. (5 / 0 == 1) and False\n",
    "\n",
    "13. False and (5 / 0 == 1)\n",
    "\n",
    "\n",
    "\n"
   ]
  },
  {
   "cell_type": "code",
   "execution_count": 2,
   "metadata": {
    "collapsed": false
   },
   "outputs": [
    {
     "name": "stdout",
     "output_type": "stream",
     "text": [
      "[True, True, '五大於三為真']\n",
      "[False, False, '三大於五為假，假and真為假']\n",
      "[True, True, '真就是真']\n",
      "['true', 'error', 'True 要大寫']\n",
      "[False, False, 'and是兩個皆為真則為真，反之則否']\n",
      "[True, True, 'and是兩個皆為真則為真，反之則否']\n",
      "[True, True, 'or是其中一個為真則為真，反之則否']\n",
      "[False, False, 'not 是相反']\n",
      "[False, False, 'not 是相反']\n",
      "[False, False, '括弧先運算']\n",
      "[True, True, '括弧先運算']\n",
      "['(5 / 0 == 1) and False', False, '不能除以零']\n",
      "[False, False, '但由於and判斷前者為假便停止輸出假，所以沒有error']\n"
     ]
    }
   ],
   "source": [
    "# Write your answers in this block\n",
    "#題號:[expected value,calculated value,\"解釋\"]\n",
    "b=[3 < 5,\n",
    "3 < 5 and 5 < 3,\n",
    "True,\n",
    "\"true\",\n",
    "True and False,\n",
    "True and True,\n",
    "True or False,\n",
    "not True,\n",
    "not not False,\n",
    "not (False or True),\n",
    "True or (False and True),\n",
    "\"(5 / 0 == 1) and False\",\n",
    "False and (5 / 0 == 1)]\n",
    "\n",
    "c=[\n",
    "    True,\n",
    "    False,\n",
    "    True,\n",
    "    \"error\",\n",
    "    False,\n",
    "    True,\n",
    "    True,\n",
    "    False,\n",
    "    False,\n",
    "    False,\n",
    "    True,\n",
    "    False,\n",
    "    False\n",
    "]\n",
    "\n",
    "d=[\n",
    "    \"五大於三為真\",\n",
    "    \"三大於五為假，假and真為假\",\n",
    "    \"真就是真\",\n",
    "    \"True 要大寫\",\n",
    "    \"and是兩個皆為真則為真，反之則否\",\n",
    "    \"and是兩個皆為真則為真，反之則否\",\n",
    "    \"or是其中一個為真則為真，反之則否\",\n",
    "    \"not 是相反\",\n",
    "    \"not 是相反\",\n",
    "    \"括弧先運算\",\n",
    "    \"括弧先運算\",\n",
    "    \"不能除以零\",\n",
    "    \"但由於and判斷前者為假便停止輸出假，所以沒有error\"\n",
    "]\n",
    "pair={}\n",
    "\n",
    "for i in range(len(b)):\n",
    "    pair[i]=[b[i],c[i],d[i]]\n",
    "    \n",
    "for i in pair:\n",
    "    print (pair[i])"
   ]
  },
  {
   "cell_type": "markdown",
   "metadata": {},
   "source": [
    "## Question3. (Type and Casting)\n",
    "## Write down the expected value,  calculated value,  and the reason for calculated value in the following expression \n",
    "\n",
    "1. float(4)\n",
    "\n",
    "2. int(4)\n",
    "\n",
    "3. int(5.3)\n",
    "\n",
    "4. float(int(5.3))\n",
    "\n",
    "5. int(-5.3)\n",
    "\n",
    "6. int(-5.7)\n",
    "\n",
    "7. float(7) / 4\n",
    "\n",
    "8. float(7 / 4)\n",
    "\n",
    "\n",
    "\n"
   ]
  },
  {
   "cell_type": "code",
   "execution_count": 5,
   "metadata": {
    "collapsed": false
   },
   "outputs": [
    {
     "name": "stdout",
     "output_type": "stream",
     "text": [
      "{0: [4.0, 4.0, '以浮點數顯示整數會加個.0'], 1: [4, 4, '整數則取到個位數'], 2: [5, 5, '整數則取到個位數'], 3: [5.0, 5.0, '整數則取到個位數，括弧內先運算'], 4: [-5, -5, '整數則取到個位數'], 5: [-5, -5, '整數則取到個位數'], 6: [1.75, 1.75, '浮點數除整數得到浮點數'], 7: [1.75, 1.0, '整數相除得整數']}\n"
     ]
    }
   ],
   "source": [
    "# Write your answers in this block\n",
    "#題號:[expected value,calculated value,\"解釋\"]\n",
    "a=[\n",
    "float(4),\n",
    "int(4),\n",
    "int(5.3),\n",
    "float(int(5.3)),\n",
    "int(-5.3),\n",
    "int(-5.7),\n",
    "float(7) / 4,\n",
    "float(7 / 4),\n",
    "]\n",
    "b=[\n",
    "    4.0,\n",
    "    4,\n",
    "    5,\n",
    "    5.0,\n",
    "    -5,\n",
    "    -5,\n",
    "    1.75,\n",
    "    1.0\n",
    "]\n",
    "c=[\n",
    "    \"以浮點數顯示整數會加個.0\",\n",
    "    \"整數則取到個位數\",\n",
    "    \"整數則取到個位數\",\n",
    "    \"整數則取到個位數，括弧內先運算\",\n",
    "    \"整數則取到個位數\",\n",
    "    \"整數則取到個位數\",\n",
    "    \"浮點數除整數得到浮點數\",\n",
    "    \"整數相除得整數\"#python3將這個改掉了，整數相除可以得出浮點數\n",
    "]\n",
    "pair={}\n",
    "for i in range(len(a)):\n",
    "    pair[i]=[a[i],b[i],c[i]]\n",
    "print (pair)"
   ]
  },
  {
   "cell_type": "markdown",
   "metadata": {},
   "source": [
    "## Question4. (Displaying Shapes with Asterisks) \n",
    "## Write a program that prints a box, an oval, an arrow and a diamond as follows:\n"
   ]
  },
  {
   "cell_type": "markdown",
   "metadata": {},
   "source": [
    "<img src=\"https://drive.google.com/uc?id=0B8xcn16IzjOebUZydXdNNWhxTW8\" />\n",
    "## Each solution is 5 points, total = 20 points.\n",
    "## Hint: You can use ‘for’ loop to print the shapes.\n"
   ]
  },
  {
   "cell_type": "code",
   "execution_count": null,
   "metadata": {
    "collapsed": true
   },
   "outputs": [],
   "source": [
    "# Write your code in this block"
   ]
  },
  {
   "cell_type": "code",
   "execution_count": 11,
   "metadata": {
    "collapsed": false
   },
   "outputs": [
    {
     "name": "stdout",
     "output_type": "stream",
     "text": [
      "*********\n",
      "*       *\n",
      "*       *\n",
      "*       *\n",
      "*       *\n",
      "*       *\n",
      "*       *\n",
      "*       *\n",
      "*********\n",
      "\n",
      "   ***   \n",
      " *     * \n",
      "*       *\n",
      "*       *\n",
      "*       *\n",
      "*       *\n",
      "*       *\n",
      " *     * \n",
      "   ***   \n",
      "\n",
      "    *    \n",
      "   ***   \n",
      "  *****  \n",
      "    *    \n",
      "    *    \n",
      "    *    \n",
      "    *    \n",
      "    *    \n",
      "    *    \n",
      "\n",
      "    *    \n",
      "   * *   \n",
      "  *   *  \n",
      " *     * \n",
      "*       *\n",
      " *     * \n",
      "  *   *  \n",
      "   * *   \n",
      "    *    \n"
     ]
    }
   ],
   "source": [
    "print (\"*\"*9)\n",
    "for i in range(7):\n",
    "    print (\"*\"+\" \"*7+\"*\")\n",
    "print (\"*\"*9)\n",
    "print()\n",
    "print(\" \"*3+\"*\"*3+\" \"*3)\n",
    "print(\" \"+\"*\"+\" \"*5+\"*\"+\" \")\n",
    "for i in range(5):\n",
    "    print(\"*\"+\" \"*7+\"*\")\n",
    "print(\" \"+\"*\"+\" \"*5+\"*\"+\" \")\n",
    "print(\" \"*3+\"*\"*3+\" \"*3)\n",
    "print()\n",
    "print(\"    \"+\"*\"+\"    \")\n",
    "print(\"   ***   \")\n",
    "print(\"  *****  \")\n",
    "for i in range(6):\n",
    "    print(\"    *    \")\n",
    "print()\n",
    "print(\"    *    \")\n",
    "print(\"   * *   \")\n",
    "print(\"  *   *  \")\n",
    "print(\" *     * \")\n",
    "print(\"*       *\")\n",
    "print(\" *     * \")\n",
    "print(\"  *   *  \")\n",
    "print(\"   * *   \")\n",
    "print(\"    *    \")"
   ]
  },
  {
   "cell_type": "code",
   "execution_count": null,
   "metadata": {
    "collapsed": true
   },
   "outputs": [],
   "source": []
  }
 ],
 "metadata": {
  "kernelspec": {
   "display_name": "Python 3",
   "language": "python",
   "name": "python3"
  },
  "language_info": {
   "codemirror_mode": {
    "name": "ipython",
    "version": 3
   },
   "file_extension": ".py",
   "mimetype": "text/x-python",
   "name": "python",
   "nbconvert_exporter": "python",
   "pygments_lexer": "ipython3",
   "version": "3.6.0"
  }
 },
 "nbformat": 4,
 "nbformat_minor": 2
}
